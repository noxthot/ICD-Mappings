{
 "cells": [
  {
   "cell_type": "markdown",
   "id": "5abdcacc-9927-45a9-933d-73e311973734",
   "metadata": {},
   "source": [
    "# Showcasing ICDCodesGrouper"
   ]
  },
  {
   "cell_type": "code",
   "execution_count": 1,
   "id": "170b7533-1420-452c-bf63-33d1c3b96125",
   "metadata": {},
   "outputs": [],
   "source": [
    "import pandas as pd"
   ]
  },
  {
   "cell_type": "code",
   "execution_count": 2,
   "id": "a8157b41-f0a1-4a33-b3be-d0e6f542081f",
   "metadata": {},
   "outputs": [],
   "source": [
    "from ICDMappings import ICDMappings"
   ]
  },
  {
   "cell_type": "code",
   "execution_count": 3,
   "id": "793446e4-af0d-4235-a773-6463841852a7",
   "metadata": {},
   "outputs": [],
   "source": [
    "# settings points to the files that contain the mappings: icd9->ccs & icd9->chapters\n",
    "icdmap = ICDMappings()"
   ]
  },
  {
   "cell_type": "markdown",
   "id": "2b196f79-7536-4a55-9e26-b3449261be6f",
   "metadata": {},
   "source": [
    "# Import a toy dataset"
   ]
  },
  {
   "cell_type": "code",
   "execution_count": 4,
   "id": "953b8ae6-3a97-479e-b7c0-0cc58dec165b",
   "metadata": {},
   "outputs": [
    {
     "data": {
      "text/html": [
       "<div>\n",
       "<style scoped>\n",
       "    .dataframe tbody tr th:only-of-type {\n",
       "        vertical-align: middle;\n",
       "    }\n",
       "\n",
       "    .dataframe tbody tr th {\n",
       "        vertical-align: top;\n",
       "    }\n",
       "\n",
       "    .dataframe thead th {\n",
       "        text-align: right;\n",
       "    }\n",
       "</style>\n",
       "<table border=\"1\" class=\"dataframe\">\n",
       "  <thead>\n",
       "    <tr style=\"text-align: right;\">\n",
       "      <th></th>\n",
       "      <th>ICD9_CODE</th>\n",
       "    </tr>\n",
       "  </thead>\n",
       "  <tbody>\n",
       "    <tr>\n",
       "      <th>0</th>\n",
       "      <td>29410</td>\n",
       "    </tr>\n",
       "    <tr>\n",
       "      <th>1</th>\n",
       "      <td>5362</td>\n",
       "    </tr>\n",
       "    <tr>\n",
       "      <th>2</th>\n",
       "      <td>34290</td>\n",
       "    </tr>\n",
       "    <tr>\n",
       "      <th>3</th>\n",
       "      <td>3669</td>\n",
       "    </tr>\n",
       "    <tr>\n",
       "      <th>4</th>\n",
       "      <td>NaN</td>\n",
       "    </tr>\n",
       "  </tbody>\n",
       "</table>\n",
       "</div>"
      ],
      "text/plain": [
       "  ICD9_CODE\n",
       "0     29410\n",
       "1      5362\n",
       "2     34290\n",
       "3      3669\n",
       "4       NaN"
      ]
     },
     "execution_count": 4,
     "metadata": {},
     "output_type": "execute_result"
    },
    {
     "data": {
      "text/plain": [
       "(50, 1)"
      ]
     },
     "execution_count": 4,
     "metadata": {},
     "output_type": "execute_result"
    }
   ],
   "source": [
    "hospital_data = pd.read_csv('toy_diagnoses_dataset.csv')\n",
    "hospital_data.head(5)\n",
    "hospital_data.shape"
   ]
  },
  {
   "cell_type": "markdown",
   "id": "e6b0f74e-8645-4c17-b6a5-d54f8852e576",
   "metadata": {},
   "source": [
    "# Check all available mappings"
   ]
  },
  {
   "cell_type": "code",
   "execution_count": 5,
   "id": "fc202d34-8a21-4970-a843-ca0e4f461a7c",
   "metadata": {},
   "outputs": [
    {
     "name": "stdout",
     "output_type": "stream",
     "text": [
      "['icd9toccs', 'icd9to10', 'icd10to9', 'icd9tochapter', 'icd9_level3', 'icd9tocci']\n"
     ]
    }
   ],
   "source": [
    "print(icdmap.get_available_groupers())"
   ]
  },
  {
   "cell_type": "markdown",
   "id": "e6be9bb6-649d-495c-b3bd-ad6bdcfab681",
   "metadata": {},
   "source": [
    "# ICD9->ICD10"
   ]
  },
  {
   "cell_type": "code",
   "execution_count": 6,
   "id": "b9033817-bfe5-41fd-9456-621353a16fc6",
   "metadata": {},
   "outputs": [
    {
     "data": {
      "text/html": [
       "<div>\n",
       "<style scoped>\n",
       "    .dataframe tbody tr th:only-of-type {\n",
       "        vertical-align: middle;\n",
       "    }\n",
       "\n",
       "    .dataframe tbody tr th {\n",
       "        vertical-align: top;\n",
       "    }\n",
       "\n",
       "    .dataframe thead th {\n",
       "        text-align: right;\n",
       "    }\n",
       "</style>\n",
       "<table border=\"1\" class=\"dataframe\">\n",
       "  <thead>\n",
       "    <tr style=\"text-align: right;\">\n",
       "      <th></th>\n",
       "      <th>ICD9_CODE</th>\n",
       "      <th>ICD10</th>\n",
       "    </tr>\n",
       "  </thead>\n",
       "  <tbody>\n",
       "    <tr>\n",
       "      <th>0</th>\n",
       "      <td>29410</td>\n",
       "      <td>F0280</td>\n",
       "    </tr>\n",
       "    <tr>\n",
       "      <th>1</th>\n",
       "      <td>5362</td>\n",
       "      <td>R1110</td>\n",
       "    </tr>\n",
       "    <tr>\n",
       "      <th>2</th>\n",
       "      <td>34290</td>\n",
       "      <td>G8190</td>\n",
       "    </tr>\n",
       "    <tr>\n",
       "      <th>3</th>\n",
       "      <td>3669</td>\n",
       "      <td>H269</td>\n",
       "    </tr>\n",
       "    <tr>\n",
       "      <th>4</th>\n",
       "      <td>NaN</td>\n",
       "      <td>NaN</td>\n",
       "    </tr>\n",
       "  </tbody>\n",
       "</table>\n",
       "</div>"
      ],
      "text/plain": [
       "  ICD9_CODE  ICD10\n",
       "0     29410  F0280\n",
       "1      5362  R1110\n",
       "2     34290  G8190\n",
       "3      3669   H269\n",
       "4       NaN    NaN"
      ]
     },
     "execution_count": 6,
     "metadata": {},
     "output_type": "execute_result"
    }
   ],
   "source": [
    "hospital_data['ICD10'] = icdmap.lookup('icd9to10',hospital_data['ICD9_CODE'])\n",
    "hospital_data.head(5)"
   ]
  },
  {
   "cell_type": "markdown",
   "id": "f0738029-f544-462b-a40a-ce540f45b8b1",
   "metadata": {},
   "source": [
    "# ICD10->ICD9"
   ]
  },
  {
   "cell_type": "code",
   "execution_count": 7,
   "id": "79da47c0-3981-4af7-8857-a35ededb2856",
   "metadata": {},
   "outputs": [
    {
     "data": {
      "text/html": [
       "<div>\n",
       "<style scoped>\n",
       "    .dataframe tbody tr th:only-of-type {\n",
       "        vertical-align: middle;\n",
       "    }\n",
       "\n",
       "    .dataframe tbody tr th {\n",
       "        vertical-align: top;\n",
       "    }\n",
       "\n",
       "    .dataframe thead th {\n",
       "        text-align: right;\n",
       "    }\n",
       "</style>\n",
       "<table border=\"1\" class=\"dataframe\">\n",
       "  <thead>\n",
       "    <tr style=\"text-align: right;\">\n",
       "      <th></th>\n",
       "      <th>ICD9_CODE</th>\n",
       "      <th>ICD10</th>\n",
       "      <th>ICD10-&gt;9</th>\n",
       "    </tr>\n",
       "  </thead>\n",
       "  <tbody>\n",
       "    <tr>\n",
       "      <th>0</th>\n",
       "      <td>29410</td>\n",
       "      <td>F0280</td>\n",
       "      <td>29410</td>\n",
       "    </tr>\n",
       "    <tr>\n",
       "      <th>1</th>\n",
       "      <td>5362</td>\n",
       "      <td>R1110</td>\n",
       "      <td>78703</td>\n",
       "    </tr>\n",
       "    <tr>\n",
       "      <th>2</th>\n",
       "      <td>34290</td>\n",
       "      <td>G8190</td>\n",
       "      <td>34290</td>\n",
       "    </tr>\n",
       "    <tr>\n",
       "      <th>3</th>\n",
       "      <td>3669</td>\n",
       "      <td>H269</td>\n",
       "      <td>3669</td>\n",
       "    </tr>\n",
       "    <tr>\n",
       "      <th>4</th>\n",
       "      <td>NaN</td>\n",
       "      <td>NaN</td>\n",
       "      <td>NaN</td>\n",
       "    </tr>\n",
       "  </tbody>\n",
       "</table>\n",
       "</div>"
      ],
      "text/plain": [
       "  ICD9_CODE  ICD10 ICD10->9\n",
       "0     29410  F0280    29410\n",
       "1      5362  R1110    78703\n",
       "2     34290  G8190    34290\n",
       "3      3669   H269     3669\n",
       "4       NaN    NaN      NaN"
      ]
     },
     "execution_count": 7,
     "metadata": {},
     "output_type": "execute_result"
    }
   ],
   "source": [
    "hospital_data['ICD10->9'] = icdmap.lookup('icd10to9',hospital_data['ICD10'])\n",
    "hospital_data.head(5)"
   ]
  },
  {
   "cell_type": "markdown",
   "id": "4d233f08-3f3c-4168-9050-b7249186d64a",
   "metadata": {},
   "source": [
    "Notice that when mapping backwards 9->10->9 there are some inconsistencies. The current mappings are not perfect."
   ]
  },
  {
   "cell_type": "markdown",
   "id": "3f477206-a40d-4ed1-9a18-8cb5afc0ae18",
   "metadata": {},
   "source": [
    "# ICD9->CCS"
   ]
  },
  {
   "cell_type": "code",
   "execution_count": 8,
   "id": "9fcf9b1a-21a9-4a72-9a76-7906edc5f5ec",
   "metadata": {},
   "outputs": [
    {
     "data": {
      "text/html": [
       "<div>\n",
       "<style scoped>\n",
       "    .dataframe tbody tr th:only-of-type {\n",
       "        vertical-align: middle;\n",
       "    }\n",
       "\n",
       "    .dataframe tbody tr th {\n",
       "        vertical-align: top;\n",
       "    }\n",
       "\n",
       "    .dataframe thead th {\n",
       "        text-align: right;\n",
       "    }\n",
       "</style>\n",
       "<table border=\"1\" class=\"dataframe\">\n",
       "  <thead>\n",
       "    <tr style=\"text-align: right;\">\n",
       "      <th></th>\n",
       "      <th>ICD9_CODE</th>\n",
       "      <th>ICD10</th>\n",
       "      <th>ICD10-&gt;9</th>\n",
       "      <th>CCS</th>\n",
       "    </tr>\n",
       "  </thead>\n",
       "  <tbody>\n",
       "    <tr>\n",
       "      <th>0</th>\n",
       "      <td>29410</td>\n",
       "      <td>F0280</td>\n",
       "      <td>29410</td>\n",
       "      <td>653.0</td>\n",
       "    </tr>\n",
       "    <tr>\n",
       "      <th>1</th>\n",
       "      <td>5362</td>\n",
       "      <td>R1110</td>\n",
       "      <td>78703</td>\n",
       "      <td>141.0</td>\n",
       "    </tr>\n",
       "    <tr>\n",
       "      <th>2</th>\n",
       "      <td>34290</td>\n",
       "      <td>G8190</td>\n",
       "      <td>34290</td>\n",
       "      <td>82.0</td>\n",
       "    </tr>\n",
       "    <tr>\n",
       "      <th>3</th>\n",
       "      <td>3669</td>\n",
       "      <td>H269</td>\n",
       "      <td>3669</td>\n",
       "      <td>86.0</td>\n",
       "    </tr>\n",
       "    <tr>\n",
       "      <th>4</th>\n",
       "      <td>NaN</td>\n",
       "      <td>NaN</td>\n",
       "      <td>NaN</td>\n",
       "      <td>NaN</td>\n",
       "    </tr>\n",
       "  </tbody>\n",
       "</table>\n",
       "</div>"
      ],
      "text/plain": [
       "  ICD9_CODE  ICD10 ICD10->9    CCS\n",
       "0     29410  F0280    29410  653.0\n",
       "1      5362  R1110    78703  141.0\n",
       "2     34290  G8190    34290   82.0\n",
       "3      3669   H269     3669   86.0\n",
       "4       NaN    NaN      NaN    NaN"
      ]
     },
     "execution_count": 8,
     "metadata": {},
     "output_type": "execute_result"
    }
   ],
   "source": [
    "hospital_data['CCS'] = icdmap.lookup('icd9toccs',hospital_data['ICD9_CODE'])\n",
    "hospital_data.head(5)"
   ]
  },
  {
   "cell_type": "markdown",
   "id": "1c64151f-5c29-4396-9def-c8befdd99112",
   "metadata": {},
   "source": [
    "# ICD9->Chapters"
   ]
  },
  {
   "cell_type": "code",
   "execution_count": 9,
   "id": "8a6d68f7-3294-416f-9c47-b27f36b95e75",
   "metadata": {},
   "outputs": [
    {
     "data": {
      "text/html": [
       "<div>\n",
       "<style scoped>\n",
       "    .dataframe tbody tr th:only-of-type {\n",
       "        vertical-align: middle;\n",
       "    }\n",
       "\n",
       "    .dataframe tbody tr th {\n",
       "        vertical-align: top;\n",
       "    }\n",
       "\n",
       "    .dataframe thead th {\n",
       "        text-align: right;\n",
       "    }\n",
       "</style>\n",
       "<table border=\"1\" class=\"dataframe\">\n",
       "  <thead>\n",
       "    <tr style=\"text-align: right;\">\n",
       "      <th></th>\n",
       "      <th>ICD9_CODE</th>\n",
       "      <th>ICD10</th>\n",
       "      <th>ICD10-&gt;9</th>\n",
       "      <th>CCS</th>\n",
       "      <th>ICD9 Chapters</th>\n",
       "    </tr>\n",
       "  </thead>\n",
       "  <tbody>\n",
       "    <tr>\n",
       "      <th>0</th>\n",
       "      <td>29410</td>\n",
       "      <td>F0280</td>\n",
       "      <td>29410</td>\n",
       "      <td>653.0</td>\n",
       "      <td>5</td>\n",
       "    </tr>\n",
       "    <tr>\n",
       "      <th>1</th>\n",
       "      <td>5362</td>\n",
       "      <td>R1110</td>\n",
       "      <td>78703</td>\n",
       "      <td>141.0</td>\n",
       "      <td>9</td>\n",
       "    </tr>\n",
       "    <tr>\n",
       "      <th>2</th>\n",
       "      <td>34290</td>\n",
       "      <td>G8190</td>\n",
       "      <td>34290</td>\n",
       "      <td>82.0</td>\n",
       "      <td>6</td>\n",
       "    </tr>\n",
       "    <tr>\n",
       "      <th>3</th>\n",
       "      <td>3669</td>\n",
       "      <td>H269</td>\n",
       "      <td>3669</td>\n",
       "      <td>86.0</td>\n",
       "      <td>6</td>\n",
       "    </tr>\n",
       "    <tr>\n",
       "      <th>4</th>\n",
       "      <td>NaN</td>\n",
       "      <td>NaN</td>\n",
       "      <td>NaN</td>\n",
       "      <td>NaN</td>\n",
       "      <td>NaN</td>\n",
       "    </tr>\n",
       "    <tr>\n",
       "      <th>5</th>\n",
       "      <td>NaN</td>\n",
       "      <td>NaN</td>\n",
       "      <td>NaN</td>\n",
       "      <td>NaN</td>\n",
       "      <td>NaN</td>\n",
       "    </tr>\n",
       "    <tr>\n",
       "      <th>6</th>\n",
       "      <td>3484</td>\n",
       "      <td>G935</td>\n",
       "      <td>3484</td>\n",
       "      <td>95.0</td>\n",
       "      <td>6</td>\n",
       "    </tr>\n",
       "    <tr>\n",
       "      <th>7</th>\n",
       "      <td>60000</td>\n",
       "      <td>N400</td>\n",
       "      <td>60000</td>\n",
       "      <td>164.0</td>\n",
       "      <td>10</td>\n",
       "    </tr>\n",
       "    <tr>\n",
       "      <th>8</th>\n",
       "      <td>5770</td>\n",
       "      <td>K859</td>\n",
       "      <td>5770</td>\n",
       "      <td>152.0</td>\n",
       "      <td>9</td>\n",
       "    </tr>\n",
       "    <tr>\n",
       "      <th>9</th>\n",
       "      <td>NaN</td>\n",
       "      <td>NaN</td>\n",
       "      <td>NaN</td>\n",
       "      <td>NaN</td>\n",
       "      <td>NaN</td>\n",
       "    </tr>\n",
       "  </tbody>\n",
       "</table>\n",
       "</div>"
      ],
      "text/plain": [
       "  ICD9_CODE  ICD10 ICD10->9    CCS ICD9 Chapters\n",
       "0     29410  F0280    29410  653.0             5\n",
       "1      5362  R1110    78703  141.0             9\n",
       "2     34290  G8190    34290   82.0             6\n",
       "3      3669   H269     3669   86.0             6\n",
       "4       NaN    NaN      NaN    NaN           NaN\n",
       "5       NaN    NaN      NaN    NaN           NaN\n",
       "6      3484   G935     3484   95.0             6\n",
       "7     60000   N400    60000  164.0            10\n",
       "8      5770   K859     5770  152.0             9\n",
       "9       NaN    NaN      NaN    NaN           NaN"
      ]
     },
     "execution_count": 9,
     "metadata": {},
     "output_type": "execute_result"
    }
   ],
   "source": [
    "hospital_data['ICD9 Chapters'] = icdmap.lookup('icd9tochapter',hospital_data['ICD9_CODE'])\n",
    "hospital_data.head(10)"
   ]
  },
  {
   "cell_type": "markdown",
   "id": "eae8924d-e467-4d24-ba49-d3ed45232b98",
   "metadata": {},
   "source": [
    "# ICD9->CCI (Chronic Condition Indicator)"
   ]
  },
  {
   "cell_type": "code",
   "execution_count": 10,
   "id": "d8c06193-5881-4981-8e37-3a39294597e8",
   "metadata": {},
   "outputs": [
    {
     "data": {
      "text/html": [
       "<div>\n",
       "<style scoped>\n",
       "    .dataframe tbody tr th:only-of-type {\n",
       "        vertical-align: middle;\n",
       "    }\n",
       "\n",
       "    .dataframe tbody tr th {\n",
       "        vertical-align: top;\n",
       "    }\n",
       "\n",
       "    .dataframe thead th {\n",
       "        text-align: right;\n",
       "    }\n",
       "</style>\n",
       "<table border=\"1\" class=\"dataframe\">\n",
       "  <thead>\n",
       "    <tr style=\"text-align: right;\">\n",
       "      <th></th>\n",
       "      <th>ICD9_CODE</th>\n",
       "      <th>ICD10</th>\n",
       "      <th>ICD10-&gt;9</th>\n",
       "      <th>CCS</th>\n",
       "      <th>ICD9 Chapters</th>\n",
       "      <th>cci</th>\n",
       "    </tr>\n",
       "  </thead>\n",
       "  <tbody>\n",
       "    <tr>\n",
       "      <th>0</th>\n",
       "      <td>29410</td>\n",
       "      <td>F0280</td>\n",
       "      <td>29410</td>\n",
       "      <td>653.0</td>\n",
       "      <td>5</td>\n",
       "      <td>True</td>\n",
       "    </tr>\n",
       "    <tr>\n",
       "      <th>1</th>\n",
       "      <td>5362</td>\n",
       "      <td>R1110</td>\n",
       "      <td>78703</td>\n",
       "      <td>141.0</td>\n",
       "      <td>9</td>\n",
       "      <td>False</td>\n",
       "    </tr>\n",
       "    <tr>\n",
       "      <th>2</th>\n",
       "      <td>34290</td>\n",
       "      <td>G8190</td>\n",
       "      <td>34290</td>\n",
       "      <td>82.0</td>\n",
       "      <td>6</td>\n",
       "      <td>True</td>\n",
       "    </tr>\n",
       "    <tr>\n",
       "      <th>3</th>\n",
       "      <td>3669</td>\n",
       "      <td>H269</td>\n",
       "      <td>3669</td>\n",
       "      <td>86.0</td>\n",
       "      <td>6</td>\n",
       "      <td>True</td>\n",
       "    </tr>\n",
       "    <tr>\n",
       "      <th>4</th>\n",
       "      <td>NaN</td>\n",
       "      <td>NaN</td>\n",
       "      <td>NaN</td>\n",
       "      <td>NaN</td>\n",
       "      <td>NaN</td>\n",
       "      <td>NaN</td>\n",
       "    </tr>\n",
       "    <tr>\n",
       "      <th>5</th>\n",
       "      <td>NaN</td>\n",
       "      <td>NaN</td>\n",
       "      <td>NaN</td>\n",
       "      <td>NaN</td>\n",
       "      <td>NaN</td>\n",
       "      <td>NaN</td>\n",
       "    </tr>\n",
       "    <tr>\n",
       "      <th>6</th>\n",
       "      <td>3484</td>\n",
       "      <td>G935</td>\n",
       "      <td>3484</td>\n",
       "      <td>95.0</td>\n",
       "      <td>6</td>\n",
       "      <td>True</td>\n",
       "    </tr>\n",
       "    <tr>\n",
       "      <th>7</th>\n",
       "      <td>60000</td>\n",
       "      <td>N400</td>\n",
       "      <td>60000</td>\n",
       "      <td>164.0</td>\n",
       "      <td>10</td>\n",
       "      <td>True</td>\n",
       "    </tr>\n",
       "    <tr>\n",
       "      <th>8</th>\n",
       "      <td>5770</td>\n",
       "      <td>K859</td>\n",
       "      <td>5770</td>\n",
       "      <td>152.0</td>\n",
       "      <td>9</td>\n",
       "      <td>False</td>\n",
       "    </tr>\n",
       "    <tr>\n",
       "      <th>9</th>\n",
       "      <td>NaN</td>\n",
       "      <td>NaN</td>\n",
       "      <td>NaN</td>\n",
       "      <td>NaN</td>\n",
       "      <td>NaN</td>\n",
       "      <td>NaN</td>\n",
       "    </tr>\n",
       "  </tbody>\n",
       "</table>\n",
       "</div>"
      ],
      "text/plain": [
       "  ICD9_CODE  ICD10 ICD10->9    CCS ICD9 Chapters    cci\n",
       "0     29410  F0280    29410  653.0             5   True\n",
       "1      5362  R1110    78703  141.0             9  False\n",
       "2     34290  G8190    34290   82.0             6   True\n",
       "3      3669   H269     3669   86.0             6   True\n",
       "4       NaN    NaN      NaN    NaN           NaN    NaN\n",
       "5       NaN    NaN      NaN    NaN           NaN    NaN\n",
       "6      3484   G935     3484   95.0             6   True\n",
       "7     60000   N400    60000  164.0            10   True\n",
       "8      5770   K859     5770  152.0             9  False\n",
       "9       NaN    NaN      NaN    NaN           NaN    NaN"
      ]
     },
     "execution_count": 10,
     "metadata": {},
     "output_type": "execute_result"
    }
   ],
   "source": [
    "hospital_data['cci'] = icdmap.lookup('icd9tocci',hospital_data['ICD9_CODE'])\n",
    "hospital_data.head(10)"
   ]
  },
  {
   "cell_type": "code",
   "execution_count": null,
   "id": "f6cee676-a44d-4d5a-bf28-6eadc585dadc",
   "metadata": {},
   "outputs": [],
   "source": []
  }
 ],
 "metadata": {
  "kernelspec": {
   "display_name": "Python (mthesis)",
   "language": "python",
   "name": "mthesis"
  },
  "language_info": {
   "codemirror_mode": {
    "name": "ipython",
    "version": 3
   },
   "file_extension": ".py",
   "mimetype": "text/x-python",
   "name": "python",
   "nbconvert_exporter": "python",
   "pygments_lexer": "ipython3",
   "version": "3.9.12"
  }
 },
 "nbformat": 4,
 "nbformat_minor": 5
}
